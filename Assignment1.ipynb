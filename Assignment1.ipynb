{
 "cells": [
  {
   "cell_type": "markdown",
   "id": "59f1af1b-8e39-4b9a-9bda-c2fd49ebe690",
   "metadata": {},
   "source": [
    "# Data Science Tools and Ecosystem"
   ]
  },
  {
   "cell_type": "markdown",
   "id": "647484f4-3965-4d85-b24b-978d6cbe2d32",
   "metadata": {},
   "source": [
    "In this notebook, Data Science Tools and Ecosystem are summarized."
   ]
  },
  {
   "cell_type": "markdown",
   "id": "f694dce0-2fd8-4bc8-a9fe-a44bbf4feb0b",
   "metadata": {},
   "source": [
    "**Objective**\n",
    "\n",
    "* List popular languages for Data Sciences\n",
    "* List commonly used libraries for Data Sciences\n",
    "* List common Data Science Tools\n",
    "* Execute simple arithmetic functions"
   ]
  },
  {
   "cell_type": "markdown",
   "id": "7e2c75d2-8ed3-4078-a24d-e99bdf20ce47",
   "metadata": {},
   "source": [
    "Some of the popular languages that Data Scientists use are:\n",
    "\n",
    "1. python\n",
    "2. java\n",
    "3. R"
   ]
  },
  {
   "cell_type": "markdown",
   "id": "153e6735-6eb2-4432-b518-c91d1368d283",
   "metadata": {},
   "source": [
    "Some of the commonly used libraries used by Data Scientists include:\n",
    "\n",
    "1. NumPy\n",
    "2. Pandas\n",
    "3. Matplotlib"
   ]
  },
  {
   "cell_type": "markdown",
   "id": "7b886290-7a59-4bdd-bcb6-0eaabd962ecf",
   "metadata": {},
   "source": [
    "| Data Science Tools |\n",
    "| ---- |\n",
    "|VS Code|\n",
    "|R Studio|\n",
    "|Gitlab|"
   ]
  },
  {
   "cell_type": "code",
   "execution_count": 5,
   "id": "fb77c322-123d-4b86-9c6d-2efa14998cde",
   "metadata": {},
   "outputs": [
    {
     "name": "stdout",
     "output_type": "stream",
     "text": [
      "17\n"
     ]
    }
   ],
   "source": [
    "#This a simple arithmetic expression to mutiply then add integers\n",
    "\n",
    "a=3\n",
    "b=4\n",
    "c=5\n",
    "d=(a*b)+c\n",
    "print(d)"
   ]
  },
  {
   "cell_type": "code",
   "execution_count": 1,
   "id": "e72fe054-83f6-43cc-9bf5-1f5ea918ec66",
   "metadata": {},
   "outputs": [
    {
     "name": "stdout",
     "output_type": "stream",
     "text": [
      "3.3333333333333335\n"
     ]
    }
   ],
   "source": [
    "def minutes_to_hours (minutes):\n",
    "    return minutes/60\n",
    "minutes = 200\n",
    "hours = minutes_to_hours(minutes)\n",
    "print(hours)\n"
   ]
  },
  {
   "cell_type": "markdown",
   "id": "e16ab10d-5e4b-4c33-a203-5c5963d08947",
   "metadata": {},
   "source": [
    "## Author ##\n",
    "Dr. Mary E. Konkle"
   ]
  },
  {
   "cell_type": "code",
   "execution_count": null,
   "id": "b86a86d5-9d8b-4f0f-a20e-95b1cb6bc0db",
   "metadata": {},
   "outputs": [],
   "source": []
  }
 ],
 "metadata": {
  "kernelspec": {
   "display_name": "Python 3 (ipykernel)",
   "language": "python",
   "name": "python3"
  },
  "language_info": {
   "codemirror_mode": {
    "name": "ipython",
    "version": 3
   },
   "file_extension": ".py",
   "mimetype": "text/x-python",
   "name": "python",
   "nbconvert_exporter": "python",
   "pygments_lexer": "ipython3",
   "version": "3.11.7"
  }
 },
 "nbformat": 4,
 "nbformat_minor": 5
}
